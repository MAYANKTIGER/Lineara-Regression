{
 "cells": [
  {
   "cell_type": "code",
   "execution_count": null,
   "metadata": {},
   "outputs": [],
   "source": []
  },
  {
   "cell_type": "code",
   "execution_count": 1,
   "metadata": {},
   "outputs": [
    {
     "name": "stderr",
     "output_type": "stream",
     "text": [
      "C:\\Users\\mayank\\Anaconda3\\lib\\site-packages\\sklearn\\cross_validation.py:41: DeprecationWarning: This module was deprecated in version 0.18 in favor of the model_selection module into which all the refactored classes and functions are moved. Also note that the interface of the new CV iterators are different from that of this module. This module will be removed in 0.20.\n",
      "  \"This module will be removed in 0.20.\", DeprecationWarning)\n"
     ]
    }
   ],
   "source": [
    "import pandas as pd \n",
    "import numpy as np \n",
    "import datetime\n",
    "\n",
    "from sklearn.linear_model import LinearRegression\n",
    "from sklearn import preprocessing, cross_validation, svm"
   ]
  },
  {
   "cell_type": "code",
   "execution_count": 2,
   "metadata": {
    "scrolled": true
   },
   "outputs": [
    {
     "name": "stdout",
     "output_type": "stream",
     "text": [
      "\n",
      "The following command must be run outside of the IPython shell:\n",
      "\n",
      "    $ pip list\n",
      "\n",
      "The Python package manager (pip) can only be used from outside of IPython.\n",
      "Please reissue the `pip` command in a separate terminal or command prompt.\n",
      "\n",
      "See the Python documentation for more information on how to install packages:\n",
      "\n",
      "    https://docs.python.org/3/installing/\n"
     ]
    }
   ],
   "source": [
    "pip list"
   ]
  },
  {
   "cell_type": "code",
   "execution_count": 3,
   "metadata": {},
   "outputs": [
    {
     "name": "stdout",
     "output_type": "stream",
     "text": [
      "\n",
      "Please wait a moment while I gather a list of all available modules...\n",
      "\n"
     ]
    },
    {
     "name": "stderr",
     "output_type": "stream",
     "text": [
      "C:\\Users\\mayank\\Anaconda3\\lib\\site-packages\\IPython\\kernel\\__init__.py:13: ShimWarning: The `IPython.kernel` package has been deprecated since IPython 4.0.You should import from ipykernel or jupyter_client instead.\n",
      "  \"You should import from ipykernel or jupyter_client instead.\", ShimWarning)\n",
      "WARNING: AstropyDeprecationWarning: astropy.utils.compat.futures is now deprecated - use concurrent.futures instead [astropy.utils.compat.futures]\n"
     ]
    },
    {
     "name": "stdout",
     "output_type": "stream",
     "text": [
      "DEBUG:matplotlib.backends:backend module://ipykernel.pylab.backend_inline version unknown\n"
     ]
    },
    {
     "name": "stderr",
     "output_type": "stream",
     "text": [
      "C:\\Users\\mayank\\Anaconda3\\lib\\site-packages\\nltk\\twitter\\__init__.py:20: UserWarning: The twython library has not been installed. Some functionality from the twitter package will not be available.\n",
      "  warnings.warn(\"The twython library has not been installed. \"\n"
     ]
    },
    {
     "name": "stdout",
     "output_type": "stream",
     "text": [
      "DEBUG:pip._internal.vcs:Registered VCS backend: git\n",
      "DEBUG:pip._internal.vcs:Registered VCS backend: hg\n",
      "DEBUG:pip._internal.vcs:Registered VCS backend: svn\n",
      "DEBUG:pip._internal.vcs:Registered VCS backend: bzr\n"
     ]
    },
    {
     "name": "stderr",
     "output_type": "stream",
     "text": [
      "C:\\Users\\mayank\\Anaconda3\\lib\\site-packages\\skimage\\novice\\__init__.py:103: UserWarning: The `skimage.novice` module was deprecated in version 0.14. It will be removed in 0.16.\n",
      "  warnings.warn(\"The `skimage.novice` module was deprecated in version 0.14. \"\n",
      "C:\\Users\\mayank\\Anaconda3\\lib\\site-packages\\skimage\\viewer\\utils\\core.py:10: UserWarning: Recommended matplotlib backend is `Agg` for full skimage.viewer functionality.\n",
      "  warn(\"Recommended matplotlib backend is `Agg` for full \"\n",
      "C:\\Users\\mayank\\Anaconda3\\lib\\site-packages\\sklearn\\ensemble\\weight_boosting.py:29: DeprecationWarning: numpy.core.umath_tests is an internal NumPy module and should not be imported. It will be removed in a future NumPy release.\n",
      "  from numpy.core.umath_tests import inner1d\n",
      "C:\\Users\\mayank\\Anaconda3\\lib\\site-packages\\qtawesome\\iconic_font.py:268: UserWarning: You need to have a running QApplication to use QtAwesome!\n",
      "  warnings.warn(\"You need to have a running \"\n",
      "C:\\Users\\mayank\\Anaconda3\\lib\\site-packages\\tqdm\\autonotebook\\__init__.py:14: TqdmExperimentalWarning: Using `tqdm.autonotebook.tqdm` in notebook mode. Use `tqdm.tqdm` instead to force console mode (e.g. in jupyter console)\n",
      "  \" (e.g. in jupyter console)\", TqdmExperimentalWarning)\n",
      "C:\\Users\\mayank\\Anaconda3\\lib\\site-packages\\twisted\\internet\\iocpreactor\\reactor.py:30: UserWarning: pyOpenSSL 0.10 or newer is required for SSL support in iocpreactor. It is missing, so the reactor will not support SSL APIs.\n",
      "  \"pyOpenSSL 0.10 or newer is required for SSL support in iocpreactor. \"\n",
      "C:\\Users\\mayank\\Anaconda3\\lib\\pkgutil.py:107: VisibleDeprecationWarning: zmq.eventloop.minitornado is deprecated in pyzmq 14.0 and will be removed.\n",
      "    Install tornado itself to use zmq with the tornado IOLoop.\n",
      "    \n",
      "  yield from walk_packages(path, info.name+'.', onerror)\n"
     ]
    },
    {
     "name": "stdout",
     "output_type": "stream",
     "text": [
      "Crypto              bs4                 mistune             sortedcontainers\n",
      "Cython              builtins            mkl                 sphinx\n",
      "IPython             bz2                 mkl_fft             sphinxcontrib\n",
      "OpenSSL             cProfile            mkl_random          spyder\n",
      "PIL                 calendar            mmap                spyder_breakpoints\n",
      "PyQt5               certifi             mmapfile            spyder_io_dcm\n",
      "__future__          cffi                mmsystem            spyder_io_hdf5\n",
      "_abc                cgi                 modulefinder        spyder_kernels\n",
      "_ast                cgitb               more_itertools      spyder_profiler\n",
      "_asyncio            chardet             mpmath              spyder_pylint\n",
      "_bisect             chunk               msgpack             sqlalchemy\n",
      "_blake2             click               msilib              sqlite3\n",
      "_bootlocale         cloudpickle         msvcrt              sre_compile\n",
      "_bz2                clyent              multipledispatch    sre_constants\n",
      "_cffi_backend       cmath               multiprocessing     sre_parse\n",
      "_codecs             cmd                 navigator_updater   ssl\n",
      "_codecs_cn          code                nbconvert           sspi\n",
      "_codecs_hk          codecs              nbformat            sspicon\n",
      "_codecs_iso2022     codeop              netbios             stat\n",
      "_codecs_jp          collections         netrc               statistics\n",
      "_codecs_kr          colorama            networkx            statsmodels\n",
      "_codecs_tw          colorsys            nltk                storemagic\n",
      "_collections        commctrl            nntplib             string\n",
      "_collections_abc    compileall          nose                stringprep\n",
      "_compat_pickle      comtypes            notebook            struct\n",
      "_compression        concurrent          nt                  subprocess\n",
      "_contextvars        conda               ntpath              sunau\n",
      "_csv                conda_build         ntsecuritycon       symbol\n",
      "_ctypes             conda_env           nturl2path          sympy\n",
      "_ctypes_test        configparser        numba               sympyprinting\n",
      "_datetime           constantly          numbers             symtable\n",
      "_decimal            contextlib          numexpr             sys\n",
      "_distutils_findvs   contextlib2         numpy               sysconfig\n",
      "_dummy_thread       contextvars         numpydoc            tables\n",
      "_elementtree        copy                odbc                tabnanny\n",
      "_functools          copyreg             odo                 tarfile\n",
      "_hashlib            crypt               olefile             tblib\n",
      "_heapq              cryptography        opcode              telnetlib\n",
      "_imp                csv                 openpyxl            tempfile\n",
      "_io                 ctypes              operator            terminado\n",
      "_json               curl                optparse            test\n",
      "_locale             curses              os                  test_data\n",
      "_lsprof             cwp                 packaging           test_path\n",
      "_lzma               cycler              pandas              test_pycosat\n",
      "_markupbase         cython              pandocfilters       testpath\n",
      "_md5                cythonmagic         parser              tests\n",
      "_msi                cytoolz             parso               textwrap\n",
      "_multibytecodec     dask                partd               this\n",
      "_multiprocessing    dataclasses         path                threading\n",
      "_nsis               datashape           pathlib             time\n",
      "_opcode             datetime            pathlib2            timeit\n",
      "_operator           dateutil            patsy               timer\n",
      "_osx_support        dbi                 pdb                 tkinter\n",
      "_overlapped         dbm                 pep8                tlz\n",
      "_pickle             dde                 perfmon             token\n",
      "_py_abc             decimal             pickle              tokenize\n",
      "_pydecimal          decorator           pickleshare         toolz\n",
      "_pyio               defusedxml          pickletools         tornado\n",
      "_pytest             difflib             pip                 tqdm\n",
      "_queue              dis                 pipes               trace\n",
      "_random             distributed         pkg_resources       traceback\n",
      "_sha1               distutils           pkginfo             tracemalloc\n",
      "_sha256             doctest             pkgutil             traitlets\n",
      "_sha3               docutils            platform            tty\n",
      "_sha512             dummy_threading     plistlib            turtle\n",
      "_signal             easy_install        pluggy              turtledemo\n",
      "_sitebuiltins       email               ply                 twisted\n",
      "_socket             encodings           poplib              types\n",
      "_sqlite3            ensurepip           posixpath           typing\n",
      "_sre                entrypoints         pprint              unicodecsv\n",
      "_ssl                enum                profile             unicodedata\n",
      "_stat               errno               prometheus_client   unittest\n",
      "_string             et_xmlfile          prompt_toolkit      urllib\n",
      "_strptime           fastcache           pstats              urllib3\n",
      "_struct             faulthandler        psutil              uu\n",
      "_symtable           filecmp             pty                 uuid\n",
      "_system_path        fileinput           py                  venv\n",
      "_testbuffer         filelock            py_compile          warnings\n",
      "_testcapi           flask               pyasn1              wave\n",
      "_testconsole        flask_cors          pyasn1_modules      wcwidth\n",
      "_testimportmultiple fnmatch             pyclbr              weakref\n",
      "_testmultiphase     formatter           pycodestyle         webbrowser\n",
      "_thread             fractions           pycosat             webencodings\n",
      "_threading_local    ftplib              pycparser           werkzeug\n",
      "_tkinter            functools           pycurl              wheel\n",
      "_tracemalloc        gc                  pydoc               widgetsnbextension\n",
      "_warnings           genericpath         pydoc_data          win2kras\n",
      "_weakref            get-pip             pyexpat             win32api\n",
      "_weakrefset         getopt              pyflakes            win32clipboard\n",
      "_win32sysloader     getpass             pygments            win32com\n",
      "_winapi             gettext             pylab               win32con\n",
      "_winxptheme         gevent              pylint              win32console\n",
      "_yaml               glob                pyodbc              win32cred\n",
      "abc                 glob2               pyparsing           win32crypt\n",
      "adodbapi            greenlet            pytest              win32cryptcon\n",
      "afxres              gzip                pytest_arraydiff    win32event\n",
      "aifc                h5py                pytest_doctestplus  win32evtlog\n",
      "alabaster           hashlib             pytest_openfiles    win32evtlogutil\n",
      "anaconda_navigator  heapdict            pytest_remotedata   win32file\n",
      "anaconda_project    heapq               pythoncom           win32gui\n",
      "antigravity         hmac                pytz                win32gui_struct\n",
      "appdirs             html                pywin               win32help\n",
      "argparse            html5lib            pywin32_testutil    win32inet\n",
      "array               http                pywintypes          win32inetcon\n",
      "asn1crypto          hyperlink           pywt                win32job\n",
      "ast                 idlelib             pyximport           win32lz\n",
      "astroid             idna                qtawesome           win32net\n",
      "astropy             imageio             qtconsole           win32netcon\n",
      "asynchat            imagesize           qtpy                win32pdh\n",
      "asyncio             imaplib             quandl              win32pdhquery\n",
      "asyncore            imghdr              queue               win32pdhutil\n",
      "atexit              imp                 quopri              win32pipe\n",
      "atomicwrites        importlib           random              win32print\n",
      "attr                incremental         rasutil             win32process\n",
      "audioop             inflection          re                  win32profile\n",
      "automat             inspect             regcheck            win32ras\n",
      "autoreload          io                  regutil             win32rcparser\n",
      "babel               ipaddress           reprlib             win32security\n",
      "backcall            ipykernel           requests            win32service\n",
      "backports           ipykernel_launcher  rlcompleter         win32serviceutil\n",
      "base64              ipython_genutils    rmagic              win32timezone\n",
      "bdb                 ipywidgets          rope                win32trace\n",
      "binascii            isapi               ruamel_yaml         win32traceutil\n",
      "binhex              isort               run                 win32transaction\n",
      "binstar_client      itertools           runpy               win32ts\n",
      "bisect              itsdangerous        sched               win32ui\n",
      "bitarray            jdcal               scipy               win32uiole\n",
      "bkcharts            jedi                scripts             win32verstamp\n",
      "blaze               jinja2              seaborn             win32wnet\n",
      "bleach              json                secrets             win_inet_pton\n",
      "bokeh               jsonschema          select              win_unicode_console\n",
      "boto                jupyter             selectors           wincertstore\n",
      "bottleneck          jupyter_client      send2trash          winerror\n",
      "brain_attrs         jupyter_console     service_identity    winioctlcon\n",
      "brain_builtin_inference jupyter_core        servicemanager      winnt\n",
      "brain_collections   jupyterlab          setuptools          winperf\n",
      "brain_curses        jupyterlab_launcher shelve              winpty\n",
      "brain_dateutil      keyring             shlex               winreg\n",
      "brain_fstrings      keyword             shutil              winsound\n",
      "brain_functools     kiwisolver          signal              winxpgui\n",
      "brain_gi            lazy_object_proxy   simplegeneric       winxptheme\n",
      "brain_hashlib       lib2to3             singledispatch      wrapt\n",
      "brain_io            linecache           singledispatch_helpers wsgiref\n",
      "brain_mechanize     llvmlite            sip                 xdrlib\n",
      "brain_multiprocessing locale              sipconfig           xlrd\n",
      "brain_namedtuple_enum locket              sipdistutils        xlsxwriter\n",
      "brain_nose          logging             site                xlwings\n",
      "brain_numpy         lxml                six                 xlwt\n",
      "brain_pkg_resources lzma                skimage             xml\n",
      "brain_pytest        macpath             sklearn             xmlrpc\n",
      "brain_qt            mailbox             smtpd               xxsubtype\n",
      "brain_random        mailcap             smtplib             yaml\n",
      "brain_re            markupsafe          sndhdr              zict\n",
      "brain_six           marshal             snowballstemmer     zipapp\n",
      "brain_ssl           math                socket              zipfile\n",
      "brain_subprocess    matplotlib          socketserver        zipimport\n",
      "brain_threading     mccabe              socks               zlib\n",
      "brain_typing        menuinst            sockshandler        zmq\n",
      "brain_uuid          mimetypes           sortedcollections   zope\n",
      "\n",
      "Enter any module name to get more help.  Or, type \"modules spam\" to search\n",
      "for modules whose name or summary contain the string \"spam\".\n",
      "\n",
      "DEBUG:matplotlib.backends:backend module://ipykernel.pylab.backend_inline version unknown\n"
     ]
    }
   ],
   "source": [
    "help('modules')"
   ]
  },
  {
   "cell_type": "code",
   "execution_count": 4,
   "metadata": {},
   "outputs": [],
   "source": [
    "import matplotlib"
   ]
  },
  {
   "cell_type": "code",
   "execution_count": 5,
   "metadata": {},
   "outputs": [],
   "source": [
    "import quandl"
   ]
  },
  {
   "cell_type": "code",
   "execution_count": 6,
   "metadata": {},
   "outputs": [],
   "source": [
    "quandl.ApiConfig.api_key = \"DbyagQxNjEgAdSU5eZv_\""
   ]
  },
  {
   "cell_type": "code",
   "execution_count": 7,
   "metadata": {},
   "outputs": [
    {
     "data": {
      "text/plain": [
       "['ApiConfig',\n",
       " 'AuthenticationError',\n",
       " 'ColumnNotFound',\n",
       " 'Data',\n",
       " 'Database',\n",
       " 'Dataset',\n",
       " 'Datatable',\n",
       " 'ForbiddenError',\n",
       " 'InternalServerError',\n",
       " 'InvalidDataError',\n",
       " 'InvalidRequestError',\n",
       " 'LimitExceededError',\n",
       " 'MergedDataset',\n",
       " 'NotFoundError',\n",
       " 'QuandlError',\n",
       " 'ServiceUnavailableError',\n",
       " '__builtins__',\n",
       " '__cached__',\n",
       " '__doc__',\n",
       " '__file__',\n",
       " '__loader__',\n",
       " '__name__',\n",
       " '__package__',\n",
       " '__path__',\n",
       " '__spec__',\n",
       " 'api_config',\n",
       " 'bulkdownload',\n",
       " 'connection',\n",
       " 'errors',\n",
       " 'export_table',\n",
       " 'get',\n",
       " 'get_table',\n",
       " 'message',\n",
       " 'model',\n",
       " 'operations',\n",
       " 'read_key',\n",
       " 'save_key',\n",
       " 'util',\n",
       " 'utils',\n",
       " 'version']"
      ]
     },
     "execution_count": 7,
     "metadata": {},
     "output_type": "execute_result"
    }
   ],
   "source": [
    "dir(quandl)"
   ]
  },
  {
   "cell_type": "code",
   "execution_count": 11,
   "metadata": {},
   "outputs": [
    {
     "name": "stdout",
     "output_type": "stream",
     "text": [
      "DEBUG:urllib3.connectionpool:Starting new HTTPS connection (1): www.quandl.com:443\n",
      "DEBUG:urllib3.connectionpool:https://www.quandl.com:443 \"GET /api/v3/datasets/WIKI/AMZN/data?order=asc HTTP/1.1\" 200 None\n"
     ]
    }
   ],
   "source": [
    "df = quandl.get(\"WIKI/AMZN\")"
   ]
  },
  {
   "cell_type": "code",
   "execution_count": 13,
   "metadata": {},
   "outputs": [
    {
     "name": "stdout",
     "output_type": "stream",
     "text": [
      "               Open     High      Low    Close     Volume  Ex-Dividend  \\\n",
      "Date                                                                     \n",
      "2018-03-21  1586.45  1590.00  1563.17  1581.86  4667291.0          0.0   \n",
      "2018-03-22  1565.47  1573.85  1542.40  1544.10  6177737.0          0.0   \n",
      "2018-03-23  1539.01  1549.02  1495.36  1495.56  7843966.0          0.0   \n",
      "2018-03-26  1530.00  1556.99  1499.25  1555.86  5547618.0          0.0   \n",
      "2018-03-27  1572.40  1575.96  1482.32  1497.05  6793279.0          0.0   \n",
      "\n",
      "            Split Ratio  Adj. Open  Adj. High  Adj. Low  Adj. Close  \\\n",
      "Date                                                                  \n",
      "2018-03-21          1.0    1586.45    1590.00   1563.17     1581.86   \n",
      "2018-03-22          1.0    1565.47    1573.85   1542.40     1544.10   \n",
      "2018-03-23          1.0    1539.01    1549.02   1495.36     1495.56   \n",
      "2018-03-26          1.0    1530.00    1556.99   1499.25     1555.86   \n",
      "2018-03-27          1.0    1572.40    1575.96   1482.32     1497.05   \n",
      "\n",
      "            Adj. Volume  \n",
      "Date                     \n",
      "2018-03-21    4667291.0  \n",
      "2018-03-22    6177737.0  \n",
      "2018-03-23    7843966.0  \n",
      "2018-03-26    5547618.0  \n",
      "2018-03-27    6793279.0  \n"
     ]
    }
   ],
   "source": [
    "print(df.tail())"
   ]
  },
  {
   "cell_type": "code",
   "execution_count": 14,
   "metadata": {},
   "outputs": [],
   "source": [
    "df = df[['Adj. Close']]"
   ]
  },
  {
   "cell_type": "code",
   "execution_count": 15,
   "metadata": {},
   "outputs": [
    {
     "data": {
      "text/html": [
       "<div>\n",
       "<style scoped>\n",
       "    .dataframe tbody tr th:only-of-type {\n",
       "        vertical-align: middle;\n",
       "    }\n",
       "\n",
       "    .dataframe tbody tr th {\n",
       "        vertical-align: top;\n",
       "    }\n",
       "\n",
       "    .dataframe thead th {\n",
       "        text-align: right;\n",
       "    }\n",
       "</style>\n",
       "<table border=\"1\" class=\"dataframe\">\n",
       "  <thead>\n",
       "    <tr style=\"text-align: right;\">\n",
       "      <th></th>\n",
       "      <th>Adj. Close</th>\n",
       "    </tr>\n",
       "    <tr>\n",
       "      <th>Date</th>\n",
       "      <th></th>\n",
       "    </tr>\n",
       "  </thead>\n",
       "  <tbody>\n",
       "    <tr>\n",
       "      <th>1997-05-16</th>\n",
       "      <td>1.729167</td>\n",
       "    </tr>\n",
       "    <tr>\n",
       "      <th>1997-05-19</th>\n",
       "      <td>1.708333</td>\n",
       "    </tr>\n",
       "    <tr>\n",
       "      <th>1997-05-20</th>\n",
       "      <td>1.635833</td>\n",
       "    </tr>\n",
       "    <tr>\n",
       "      <th>1997-05-21</th>\n",
       "      <td>1.427500</td>\n",
       "    </tr>\n",
       "    <tr>\n",
       "      <th>1997-05-22</th>\n",
       "      <td>1.395833</td>\n",
       "    </tr>\n",
       "    <tr>\n",
       "      <th>1997-05-23</th>\n",
       "      <td>1.500000</td>\n",
       "    </tr>\n",
       "    <tr>\n",
       "      <th>1997-05-27</th>\n",
       "      <td>1.583333</td>\n",
       "    </tr>\n",
       "    <tr>\n",
       "      <th>1997-05-28</th>\n",
       "      <td>1.531667</td>\n",
       "    </tr>\n",
       "    <tr>\n",
       "      <th>1997-05-29</th>\n",
       "      <td>1.505000</td>\n",
       "    </tr>\n",
       "    <tr>\n",
       "      <th>1997-05-30</th>\n",
       "      <td>1.500000</td>\n",
       "    </tr>\n",
       "    <tr>\n",
       "      <th>1997-06-02</th>\n",
       "      <td>1.510833</td>\n",
       "    </tr>\n",
       "    <tr>\n",
       "      <th>1997-06-03</th>\n",
       "      <td>1.479167</td>\n",
       "    </tr>\n",
       "    <tr>\n",
       "      <th>1997-06-04</th>\n",
       "      <td>1.416667</td>\n",
       "    </tr>\n",
       "    <tr>\n",
       "      <th>1997-06-05</th>\n",
       "      <td>1.541667</td>\n",
       "    </tr>\n",
       "    <tr>\n",
       "      <th>1997-06-06</th>\n",
       "      <td>1.656667</td>\n",
       "    </tr>\n",
       "    <tr>\n",
       "      <th>1997-06-09</th>\n",
       "      <td>1.687500</td>\n",
       "    </tr>\n",
       "    <tr>\n",
       "      <th>1997-06-10</th>\n",
       "      <td>1.583333</td>\n",
       "    </tr>\n",
       "    <tr>\n",
       "      <th>1997-06-11</th>\n",
       "      <td>1.541667</td>\n",
       "    </tr>\n",
       "    <tr>\n",
       "      <th>1997-06-12</th>\n",
       "      <td>1.604167</td>\n",
       "    </tr>\n",
       "    <tr>\n",
       "      <th>1997-06-13</th>\n",
       "      <td>1.583333</td>\n",
       "    </tr>\n",
       "    <tr>\n",
       "      <th>1997-06-16</th>\n",
       "      <td>1.573333</td>\n",
       "    </tr>\n",
       "    <tr>\n",
       "      <th>1997-06-17</th>\n",
       "      <td>1.505000</td>\n",
       "    </tr>\n",
       "    <tr>\n",
       "      <th>1997-06-18</th>\n",
       "      <td>1.510833</td>\n",
       "    </tr>\n",
       "    <tr>\n",
       "      <th>1997-06-19</th>\n",
       "      <td>1.510833</td>\n",
       "    </tr>\n",
       "    <tr>\n",
       "      <th>1997-06-20</th>\n",
       "      <td>1.525833</td>\n",
       "    </tr>\n",
       "    <tr>\n",
       "      <th>1997-06-23</th>\n",
       "      <td>1.500000</td>\n",
       "    </tr>\n",
       "    <tr>\n",
       "      <th>1997-06-24</th>\n",
       "      <td>1.510833</td>\n",
       "    </tr>\n",
       "    <tr>\n",
       "      <th>1997-06-25</th>\n",
       "      <td>1.510833</td>\n",
       "    </tr>\n",
       "    <tr>\n",
       "      <th>1997-06-26</th>\n",
       "      <td>1.510833</td>\n",
       "    </tr>\n",
       "    <tr>\n",
       "      <th>1997-06-27</th>\n",
       "      <td>1.490000</td>\n",
       "    </tr>\n",
       "    <tr>\n",
       "      <th>...</th>\n",
       "      <td>...</td>\n",
       "    </tr>\n",
       "    <tr>\n",
       "      <th>2018-02-13</th>\n",
       "      <td>1414.510000</td>\n",
       "    </tr>\n",
       "    <tr>\n",
       "      <th>2018-02-14</th>\n",
       "      <td>1451.050000</td>\n",
       "    </tr>\n",
       "    <tr>\n",
       "      <th>2018-02-15</th>\n",
       "      <td>1461.760000</td>\n",
       "    </tr>\n",
       "    <tr>\n",
       "      <th>2018-02-16</th>\n",
       "      <td>1448.690000</td>\n",
       "    </tr>\n",
       "    <tr>\n",
       "      <th>2018-02-20</th>\n",
       "      <td>1468.350000</td>\n",
       "    </tr>\n",
       "    <tr>\n",
       "      <th>2018-02-21</th>\n",
       "      <td>1482.920000</td>\n",
       "    </tr>\n",
       "    <tr>\n",
       "      <th>2018-02-22</th>\n",
       "      <td>1484.760000</td>\n",
       "    </tr>\n",
       "    <tr>\n",
       "      <th>2018-02-23</th>\n",
       "      <td>1500.000000</td>\n",
       "    </tr>\n",
       "    <tr>\n",
       "      <th>2018-02-26</th>\n",
       "      <td>1521.950000</td>\n",
       "    </tr>\n",
       "    <tr>\n",
       "      <th>2018-02-27</th>\n",
       "      <td>1511.980000</td>\n",
       "    </tr>\n",
       "    <tr>\n",
       "      <th>2018-02-28</th>\n",
       "      <td>1512.450000</td>\n",
       "    </tr>\n",
       "    <tr>\n",
       "      <th>2018-03-01</th>\n",
       "      <td>1493.450000</td>\n",
       "    </tr>\n",
       "    <tr>\n",
       "      <th>2018-03-02</th>\n",
       "      <td>1500.250000</td>\n",
       "    </tr>\n",
       "    <tr>\n",
       "      <th>2018-03-05</th>\n",
       "      <td>1523.610000</td>\n",
       "    </tr>\n",
       "    <tr>\n",
       "      <th>2018-03-06</th>\n",
       "      <td>1537.640000</td>\n",
       "    </tr>\n",
       "    <tr>\n",
       "      <th>2018-03-07</th>\n",
       "      <td>1545.000000</td>\n",
       "    </tr>\n",
       "    <tr>\n",
       "      <th>2018-03-08</th>\n",
       "      <td>1551.860000</td>\n",
       "    </tr>\n",
       "    <tr>\n",
       "      <th>2018-03-09</th>\n",
       "      <td>1578.890000</td>\n",
       "    </tr>\n",
       "    <tr>\n",
       "      <th>2018-03-12</th>\n",
       "      <td>1598.390000</td>\n",
       "    </tr>\n",
       "    <tr>\n",
       "      <th>2018-03-13</th>\n",
       "      <td>1588.180000</td>\n",
       "    </tr>\n",
       "    <tr>\n",
       "      <th>2018-03-14</th>\n",
       "      <td>1591.000000</td>\n",
       "    </tr>\n",
       "    <tr>\n",
       "      <th>2018-03-15</th>\n",
       "      <td>1582.320000</td>\n",
       "    </tr>\n",
       "    <tr>\n",
       "      <th>2018-03-16</th>\n",
       "      <td>1571.680000</td>\n",
       "    </tr>\n",
       "    <tr>\n",
       "      <th>2018-03-19</th>\n",
       "      <td>1544.930000</td>\n",
       "    </tr>\n",
       "    <tr>\n",
       "      <th>2018-03-20</th>\n",
       "      <td>1586.510000</td>\n",
       "    </tr>\n",
       "    <tr>\n",
       "      <th>2018-03-21</th>\n",
       "      <td>1581.860000</td>\n",
       "    </tr>\n",
       "    <tr>\n",
       "      <th>2018-03-22</th>\n",
       "      <td>1544.100000</td>\n",
       "    </tr>\n",
       "    <tr>\n",
       "      <th>2018-03-23</th>\n",
       "      <td>1495.560000</td>\n",
       "    </tr>\n",
       "    <tr>\n",
       "      <th>2018-03-26</th>\n",
       "      <td>1555.860000</td>\n",
       "    </tr>\n",
       "    <tr>\n",
       "      <th>2018-03-27</th>\n",
       "      <td>1497.050000</td>\n",
       "    </tr>\n",
       "  </tbody>\n",
       "</table>\n",
       "<p>5248 rows × 1 columns</p>\n",
       "</div>"
      ],
      "text/plain": [
       "             Adj. Close\n",
       "Date                   \n",
       "1997-05-16     1.729167\n",
       "1997-05-19     1.708333\n",
       "1997-05-20     1.635833\n",
       "1997-05-21     1.427500\n",
       "1997-05-22     1.395833\n",
       "1997-05-23     1.500000\n",
       "1997-05-27     1.583333\n",
       "1997-05-28     1.531667\n",
       "1997-05-29     1.505000\n",
       "1997-05-30     1.500000\n",
       "1997-06-02     1.510833\n",
       "1997-06-03     1.479167\n",
       "1997-06-04     1.416667\n",
       "1997-06-05     1.541667\n",
       "1997-06-06     1.656667\n",
       "1997-06-09     1.687500\n",
       "1997-06-10     1.583333\n",
       "1997-06-11     1.541667\n",
       "1997-06-12     1.604167\n",
       "1997-06-13     1.583333\n",
       "1997-06-16     1.573333\n",
       "1997-06-17     1.505000\n",
       "1997-06-18     1.510833\n",
       "1997-06-19     1.510833\n",
       "1997-06-20     1.525833\n",
       "1997-06-23     1.500000\n",
       "1997-06-24     1.510833\n",
       "1997-06-25     1.510833\n",
       "1997-06-26     1.510833\n",
       "1997-06-27     1.490000\n",
       "...                 ...\n",
       "2018-02-13  1414.510000\n",
       "2018-02-14  1451.050000\n",
       "2018-02-15  1461.760000\n",
       "2018-02-16  1448.690000\n",
       "2018-02-20  1468.350000\n",
       "2018-02-21  1482.920000\n",
       "2018-02-22  1484.760000\n",
       "2018-02-23  1500.000000\n",
       "2018-02-26  1521.950000\n",
       "2018-02-27  1511.980000\n",
       "2018-02-28  1512.450000\n",
       "2018-03-01  1493.450000\n",
       "2018-03-02  1500.250000\n",
       "2018-03-05  1523.610000\n",
       "2018-03-06  1537.640000\n",
       "2018-03-07  1545.000000\n",
       "2018-03-08  1551.860000\n",
       "2018-03-09  1578.890000\n",
       "2018-03-12  1598.390000\n",
       "2018-03-13  1588.180000\n",
       "2018-03-14  1591.000000\n",
       "2018-03-15  1582.320000\n",
       "2018-03-16  1571.680000\n",
       "2018-03-19  1544.930000\n",
       "2018-03-20  1586.510000\n",
       "2018-03-21  1581.860000\n",
       "2018-03-22  1544.100000\n",
       "2018-03-23  1495.560000\n",
       "2018-03-26  1555.860000\n",
       "2018-03-27  1497.050000\n",
       "\n",
       "[5248 rows x 1 columns]"
      ]
     },
     "execution_count": 15,
     "metadata": {},
     "output_type": "execute_result"
    }
   ],
   "source": [
    "# df"
   ]
  },
  {
   "cell_type": "code",
   "execution_count": 16,
   "metadata": {},
   "outputs": [],
   "source": [
    "#Now, let’s set up our forecasting. We want to predict 30 days into the future,\n",
    "#so we’ll set a variable forecast_out equal to that.\n",
    "#Then, we need to create a new column in our dataframe which serves as our label,\n",
    "#which, in machine learning, is known as our output. To fill our output data with data to be trained upon, \n",
    "#we will set our  prediction column equal to our Adj. Close column, but shifted 30 units up."
   ]
  },
  {
   "cell_type": "code",
   "execution_count": 18,
   "metadata": {},
   "outputs": [
    {
     "name": "stderr",
     "output_type": "stream",
     "text": [
      "C:\\Users\\mayank\\Anaconda3\\lib\\site-packages\\ipykernel_launcher.py:2: SettingWithCopyWarning: \n",
      "A value is trying to be set on a copy of a slice from a DataFrame.\n",
      "Try using .loc[row_indexer,col_indexer] = value instead\n",
      "\n",
      "See the caveats in the documentation: http://pandas.pydata.org/pandas-docs/stable/indexing.html#indexing-view-versus-copy\n",
      "  \n"
     ]
    }
   ],
   "source": [
    "forecast_out = int(30) # predicting 30 days into future\n",
    "df['Prediction'] = df[['Adj. Close']].shift(-forecast_out) #  label column with data shifted 30 units up\n"
   ]
  },
  {
   "cell_type": "code",
   "execution_count": 19,
   "metadata": {},
   "outputs": [
    {
     "name": "stdout",
     "output_type": "stream",
     "text": [
      "            Adj. Close  Prediction\n",
      "Date                              \n",
      "2018-03-21     1581.86         NaN\n",
      "2018-03-22     1544.10         NaN\n",
      "2018-03-23     1495.56         NaN\n",
      "2018-03-26     1555.86         NaN\n",
      "2018-03-27     1497.05         NaN\n"
     ]
    }
   ],
   "source": [
    "print(df.tail())"
   ]
  },
  {
   "cell_type": "markdown",
   "metadata": {},
   "source": [
    "# Defining Features & Labels\n",
    "Our X will be an array consisting of our Adj. Close values, and so we want to drop the Prediction column. We also want to scale our input values. Scaling our features allow us to normalize the data.\n"
   ]
  },
  {
   "cell_type": "code",
   "execution_count": 20,
   "metadata": {},
   "outputs": [],
   "source": [
    "X = np.array(df.drop(['Prediction'], 1))\n",
    "X = preprocessing.scale(X)"
   ]
  },
  {
   "cell_type": "markdown",
   "metadata": {},
   "source": [
    "Now, if you printed the dataframe after we created the Prediction column, you saw that for the last 30 days, there were NaNs, or no label data. We’ll set a new input variable to these days and remove them from the X array.\n"
   ]
  },
  {
   "cell_type": "code",
   "execution_count": 22,
   "metadata": {},
   "outputs": [],
   "source": [
    "X_forecast = X[-forecast_out:] # set X_forecast equal to last 30\n",
    "X = X[:-forecast_out] # remove last 30 from X"
   ]
  },
  {
   "cell_type": "markdown",
   "metadata": {},
   "source": [
    "To define our y, or output, we will set it equal to our array of the Prediction values and remove the last 30 days where we don’t have any pricing data.\n",
    "\n"
   ]
  },
  {
   "cell_type": "code",
   "execution_count": 23,
   "metadata": {},
   "outputs": [],
   "source": [
    "y = np.array(df['Prediction'])\n",
    "y = y[:-forecast_out]"
   ]
  },
  {
   "cell_type": "markdown",
   "metadata": {},
   "source": [
    "Linear Regression\n",
    "\n",
    "Finally, prediction time! First, we’ll want to split our testing and training data sets, and set our test_size equal to 20% of the data. The training set contains our known outputs, or prices, that our model learns on, and our test dataset is to test our model’s predictions based on what it learned from the training set."
   ]
  },
  {
   "cell_type": "code",
   "execution_count": 24,
   "metadata": {},
   "outputs": [],
   "source": [
    "X_train, X_test, y_train, y_test = cross_validation.train_test_split(X, y, test_size = 0.2)"
   ]
  },
  {
   "cell_type": "markdown",
   "metadata": {},
   "source": [
    "Now, we can initiate our Linear Regression model and fit it with training data. After training, to test the accuracy of the model, we “score” it using the testing data. We can get an r^2 (coefficient of determination) reading based on how far the predicted price was compared to the actual price in the test data set. When I ran the algorithm, I usually got a value of over 90%."
   ]
  },
  {
   "cell_type": "code",
   "execution_count": 25,
   "metadata": {},
   "outputs": [
    {
     "name": "stdout",
     "output_type": "stream",
     "text": [
      "confidence:  0.988102205002077\n"
     ]
    }
   ],
   "source": [
    "# Training\n",
    "clf = LinearRegression()\n",
    "clf.fit(X_train,y_train)\n",
    "# Testing\n",
    "confidence = clf.score(X_test, y_test)\n",
    "print(\"confidence: \", confidence)"
   ]
  },
  {
   "cell_type": "markdown",
   "metadata": {},
   "source": [
    "Lastly, we can to predict our X_forecast values:"
   ]
  },
  {
   "cell_type": "code",
   "execution_count": 26,
   "metadata": {},
   "outputs": [
    {
     "name": "stdout",
     "output_type": "stream",
     "text": [
      "[1503.17346152 1542.09761918 1553.50642402 1539.58363418 1560.52640757\n",
      " 1576.04706923 1578.00712534 1594.24150308 1617.62369413 1607.00317273\n",
      " 1607.50383923 1587.26412945 1594.50781506 1619.39200562 1634.33743342\n",
      " 1642.17765785 1649.48525833 1678.27890862 1699.05124235 1688.17506146\n",
      " 1691.17906049 1681.93270886 1670.59847138 1642.10309049 1686.39609749\n",
      " 1681.44269483 1641.21893475 1589.51180248 1653.74624986 1591.09902183]\n"
     ]
    }
   ],
   "source": [
    "forecast_prediction = clf.predict(X_forecast)\n",
    "print(forecast_prediction)"
   ]
  },
  {
   "cell_type": "code",
   "execution_count": null,
   "metadata": {},
   "outputs": [],
   "source": []
  }
 ],
 "metadata": {
  "kernelspec": {
   "display_name": "Python 3",
   "language": "python",
   "name": "python3"
  },
  "language_info": {
   "codemirror_mode": {
    "name": "ipython",
    "version": 3
   },
   "file_extension": ".py",
   "mimetype": "text/x-python",
   "name": "python",
   "nbconvert_exporter": "python",
   "pygments_lexer": "ipython3",
   "version": "3.7.0"
  }
 },
 "nbformat": 4,
 "nbformat_minor": 2
}
